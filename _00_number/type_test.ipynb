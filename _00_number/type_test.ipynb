{
 "cells": [
  {
   "cell_type": "code",
   "id": "initial_id",
   "metadata": {
    "collapsed": true,
    "ExecuteTime": {
     "end_time": "2024-07-10T06:54:39.056467Z",
     "start_time": "2024-07-10T06:54:39.048623Z"
    }
   },
   "source": [
    "int_type=type(1)\n",
    "float_type=type(1.0)\n",
    "str_type=type(\"1\")\n",
    "print(int_type)\n",
    "print(float_type)\n",
    "print(str_type)"
   ],
   "outputs": [
    {
     "name": "stdout",
     "output_type": "stream",
     "text": [
      "<class 'int'>\n",
      "<class 'float'>\n",
      "<class 'str'>\n"
     ]
    }
   ],
   "execution_count": 1
  },
  {
   "metadata": {
    "ExecuteTime": {
     "end_time": "2024-07-10T08:58:31.335771Z",
     "start_time": "2024-07-10T08:58:31.324381Z"
    }
   },
   "cell_type": "code",
   "source": [
    "の=\"\"\"hello world!\n",
    "\"\"\"\n",
    "の_type=type(の)\n",
    "print(の_type)\n",
    "print(の)"
   ],
   "id": "1c9216e1e185e135",
   "outputs": [
    {
     "name": "stdout",
     "output_type": "stream",
     "text": [
      "<class 'str'>\n",
      "hello world!\n",
      "\n"
     ]
    }
   ],
   "execution_count": 28
  },
  {
   "metadata": {
    "ExecuteTime": {
     "end_time": "2024-07-10T07:14:53.168806Z",
     "start_time": "2024-07-10T07:14:53.163346Z"
    }
   },
   "cell_type": "code",
   "source": [
    "# 类型转换\n",
    "str_num=str(11.323)\n",
    "print(str_num,type(str_num))\n",
    "\n",
    "int_num=int(11.923)\n",
    "print(int_num,type(int_num))\n",
    "\n",
    "float_num=float(1_1)\n",
    "print(float_num,type(float_num))\n",
    "\n",
    "float_num2=float(\"11.1_1\")\n",
    "print(float_num2,type(float_num2))"
   ],
   "id": "b8f97b9df67d3e78",
   "outputs": [
    {
     "name": "stdout",
     "output_type": "stream",
     "text": [
      "11.323 <class 'str'>\n",
      "11 <class 'int'>\n",
      "11.0 <class 'float'>\n",
      "11.11 <class 'float'>\n"
     ]
    }
   ],
   "execution_count": 15
  },
  {
   "metadata": {},
   "cell_type": "code",
   "source": "",
   "id": "dde7a295b848f2c3",
   "outputs": [],
   "execution_count": null
  }
 ],
 "metadata": {
  "kernelspec": {
   "display_name": "Python 3",
   "language": "python",
   "name": "python3"
  },
  "language_info": {
   "codemirror_mode": {
    "name": "ipython",
    "version": 2
   },
   "file_extension": ".py",
   "mimetype": "text/x-python",
   "name": "python",
   "nbconvert_exporter": "python",
   "pygments_lexer": "ipython2",
   "version": "2.7.6"
  }
 },
 "nbformat": 4,
 "nbformat_minor": 5
}
